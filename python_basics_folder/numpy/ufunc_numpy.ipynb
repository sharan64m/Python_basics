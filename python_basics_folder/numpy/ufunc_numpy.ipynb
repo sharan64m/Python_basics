{
 "cells": [
  {
   "attachments": {},
   "cell_type": "markdown",
   "metadata": {},
   "source": [
    "What are ufuncs?\n",
    "\n",
    "\n",
    "ufuncs stands for \"Universal Functions\" and they are NumPy functions that operate on the ndarray object.\n",
    "\n",
    "Why use ufuncs?\n",
    "\n",
    "\n",
    "ufuncs are` used to implement vectorization in NumPy which is way faster than iterating over elements.`\n",
    "\n",
    "They also provide broadcasting and additional methods like reduce, accumulate etc. that are very helpful for computation.\n",
    "\n",
    " ### ufuncs also take additional arguments, like:\n",
    "\n",
    "#### where  - boolean array or condition defining where the operations should take place.\n",
    "\n",
    "### dtype -  defining the return type of elements.\n",
    "\n",
    "### out   -  output array where the return value should be copied."
   ]
  },
  {
   "attachments": {},
   "cell_type": "markdown",
   "metadata": {},
   "source": [
    "What is Vectorization?\n",
    "\n",
    "\n",
    "Converting iterative statements into a vector based operation is called vectorization.\n",
    "\n",
    "\n",
    "\n",
    "It is faster as modern CPUs are optimized for such operations."
   ]
  },
  {
   "cell_type": "code",
   "execution_count": 1,
   "metadata": {},
   "outputs": [
    {
     "data": {
      "text/plain": [
       "[2, 4, 6, 8, 10, 12]"
      ]
     },
     "execution_count": 1,
     "metadata": {},
     "output_type": "execute_result"
    }
   ],
   "source": [
    "#  the task is to add  two iterable into another iterable \n",
    "\n",
    "a=[1,2,3,4,5,6]\n",
    "b=[1,2,3,4,5,6]\n",
    "z=[]\n",
    "for i,j in zip(a,b):\n",
    "    z.append(i+j)\n",
    "z"
   ]
  },
  {
   "attachments": {},
   "cell_type": "markdown",
   "metadata": {},
   "source": [
    "### `NumPy has a ufunc for this, called add(x, y) that will produce the same result.`"
   ]
  },
  {
   "cell_type": "code",
   "execution_count": 2,
   "metadata": {},
   "outputs": [
    {
     "data": {
      "text/plain": [
       "array([ 2,  4,  6,  8, 10, 12])"
      ]
     },
     "execution_count": 2,
     "metadata": {},
     "output_type": "execute_result"
    }
   ],
   "source": [
    "# the above code take loop to complete the task it take to loop in one by one instance of the loop we can use the numpy function add \n",
    "import numpy as np\n",
    "\n",
    "z = np.add(a,b)\n",
    "z\n",
    "# add is fun that is under the package in numpy\n"
   ]
  },
  {
   "attachments": {},
   "cell_type": "markdown",
   "metadata": {},
   "source": [
    "How To Create Your Own ufunc\n",
    "\n",
    "\n",
    "To create your own ufunc, you have to define a function, like you do with normal functions in Python, then you add it to your NumPy ufunc library with the frompyfunc() method.\n",
    "\n",
    "\n",
    "\n",
    "The frompyfunc() method takes the following arguments:\n",
    "\n",
    "### `function - the name of the function.`\n",
    "### `inputs - the number of input arguments (arrays).`\n",
    "### `outputs - the number of output arrays.`"
   ]
  },
  {
   "cell_type": "code",
   "execution_count": 9,
   "metadata": {},
   "outputs": [
    {
     "name": "stdout",
     "output_type": "stream",
     "text": [
      "[1 4 9 16]\n",
      "<class 'numpy.ufunc'>\n",
      "<class 'function'>\n"
     ]
    }
   ],
   "source": [
    "import numpy as np\n",
    "\n",
    "def add(x,y) :\n",
    "    return x * y\n",
    "\n",
    "def sub(x,y) :\n",
    "    return x - y\n",
    "\n",
    "\n",
    "add = np.frompyfunc(add,2,1)\n",
    "print(add([1,2,3,4],[1,2,3,4]))\n",
    "print(type(add))\n",
    "# it's type is numpy.unfunc \n",
    "# see the type of sub funtion it print it as a normal function\n",
    "print(type(sub))"
   ]
  },
  {
   "attachments": {},
   "cell_type": "markdown",
   "metadata": {},
   "source": [
    "## `Simple Arithmetic`"
   ]
  },
  {
   "attachments": {},
   "cell_type": "markdown",
   "metadata": {},
   "source": [
    "in this Simple Arithmetic they are some function the function are \n",
    " ## `*Addition`\n",
    " ## `*Subtraction`\n",
    " ## `*Multiplication`\n",
    " ## `*Division`\n",
    " ## `*power`\n",
    " ## `*remainder`\n",
    " ## `*quotient`\n",
    " ## `*mod & quotient`\n",
    " ## `*absolute`"
   ]
  },
  {
   "cell_type": "code",
   "execution_count": 10,
   "metadata": {},
   "outputs": [
    {
     "data": {
      "text/plain": [
       "array([ 6,  8, 10, 12, 14,  7,  8,  9, 12,  5])"
      ]
     },
     "execution_count": 10,
     "metadata": {},
     "output_type": "execute_result"
    }
   ],
   "source": [
    "# additional fun using add() fun\n",
    "\n",
    "import numpy as np\n",
    "\n",
    "\n",
    "a=[1,2,3,4,5,6,7,8,9,1]\n",
    "b=[5,6,7,8,9,1,1,1,3,4]\n",
    "newarr=np.add(a,b)\n",
    "newarr"
   ]
  },
  {
   "cell_type": "code",
   "execution_count": 12,
   "metadata": {},
   "outputs": [
    {
     "data": {
      "text/plain": [
       "array([-4, -4, -4, -4, -4,  5,  6,  7,  6, -3])"
      ]
     },
     "execution_count": 12,
     "metadata": {},
     "output_type": "execute_result"
    }
   ],
   "source": [
    "# subtract fun using subtract() fun\n",
    "\n",
    "import numpy as np\n",
    "\n",
    "\n",
    "a=[1,2,3,4,5,6,7,8,9,1]\n",
    "b=[5,6,7,8,9,1,1,1,3,4]\n",
    "newarr=np.subtract(a,b)\n",
    "newarr"
   ]
  },
  {
   "cell_type": "code",
   "execution_count": 13,
   "metadata": {},
   "outputs": [
    {
     "data": {
      "text/plain": [
       "array([ 5, 12, 21, 32, 45,  6,  7,  8, 27,  4])"
      ]
     },
     "execution_count": 13,
     "metadata": {},
     "output_type": "execute_result"
    }
   ],
   "source": [
    "# multiplication fun using multiply() fun\n",
    "\n",
    "import numpy as np\n",
    "\n",
    "\n",
    "a=[1,2,3,4,5,6,7,8,9,1]\n",
    "b=[5,6,7,8,9,1,1,1,3,4]\n",
    "newarr=np.multiply(a,b)\n",
    "newarr"
   ]
  },
  {
   "cell_type": "code",
   "execution_count": 18,
   "metadata": {},
   "outputs": [
    {
     "data": {
      "text/plain": [
       "array([5.        , 3.        , 2.33333333, 2.        , 1.8       ,\n",
       "       0.16666667, 0.14285714, 0.125     , 0.33333333, 4.        ])"
      ]
     },
     "execution_count": 18,
     "metadata": {},
     "output_type": "execute_result"
    }
   ],
   "source": [
    "# divide fun using divide() fun\n",
    "\n",
    "import numpy as np\n",
    "\n",
    "\n",
    "a=[1,2,3,4,5,6,7,8,9,1]\n",
    "b=[5,6,7,8,9,1,1,1,3,4]\n",
    "newarr=np.divide(b,a)\n",
    "newarr\n"
   ]
  },
  {
   "cell_type": "code",
   "execution_count": 19,
   "metadata": {},
   "outputs": [
    {
     "data": {
      "text/plain": [
       "array([      1,      64,    2187,   65536, 1953125,       6,       7,\n",
       "             8,     729,       1])"
      ]
     },
     "execution_count": 19,
     "metadata": {},
     "output_type": "execute_result"
    }
   ],
   "source": [
    "# power fun using power() fun\n",
    "\n",
    "import numpy as np\n",
    "\n",
    "\n",
    "a=[1,2,3,4,5,6,7,8,9,1]\n",
    "b=[5,6,7,8,9,1,1,1,3,4]\n",
    "newarr=np.power(a,b)\n",
    "newarr\n"
   ]
  },
  {
   "cell_type": "code",
   "execution_count": 21,
   "metadata": {},
   "outputs": [
    {
     "data": {
      "text/plain": [
       "array([0])"
      ]
     },
     "execution_count": 21,
     "metadata": {},
     "output_type": "execute_result"
    }
   ],
   "source": [
    "# mod fun using mod() fun   remainder and mod() both shows the same result it show the remainder of the arrays \n",
    "\n",
    "import numpy as np\n",
    "\n",
    "\n",
    "a=[2]\n",
    "b=[2]\n",
    "newarr=np.mod(b,a)\n",
    "newarr\n",
    "# it show the remainder of the following array"
   ]
  },
  {
   "cell_type": "code",
   "execution_count": 22,
   "metadata": {},
   "outputs": [
    {
     "data": {
      "text/plain": [
       "array([0])"
      ]
     },
     "execution_count": 22,
     "metadata": {},
     "output_type": "execute_result"
    }
   ],
   "source": [
    "# mod fun using mod() fun   remainder and mod() both shows the same result it show the remainder of the arrays \n",
    "\n",
    "import numpy as np\n",
    "\n",
    "\n",
    "a=[2]\n",
    "b=[2]\n",
    "newarr=np.remainder(b,a)\n",
    "newarr\n",
    "# it show the remainder of the following array"
   ]
  },
  {
   "attachments": {},
   "cell_type": "markdown",
   "metadata": {},
   "source": [
    "`Quotient and Mod`\n",
    "\n",
    "\n",
    "The divmod() function return both the quotient and the the mod. The return value is two arrays, the first array contains the quotient and second array contains the mod."
   ]
  },
  {
   "cell_type": "code",
   "execution_count": 23,
   "metadata": {},
   "outputs": [
    {
     "data": {
      "text/plain": [
       "(array([0, 0, 0, 0, 0, 6, 7, 8, 3, 0]), array([1, 2, 3, 4, 5, 0, 0, 0, 0, 1]))"
      ]
     },
     "execution_count": 23,
     "metadata": {},
     "output_type": "execute_result"
    }
   ],
   "source": [
    "# qutient mod fun using quotientmod divmod() fun\n",
    "\n",
    "import numpy as np\n",
    "\n",
    "\n",
    "a=[1,2,3,4,5,6,7,8,9,1]\n",
    "b=[5,6,7,8,9,1,1,1,3,4]\n",
    "newarr=np.divmod(a,b)\n",
    "newarr\n"
   ]
  },
  {
   "cell_type": "code",
   "execution_count": 26,
   "metadata": {},
   "outputs": [
    {
     "data": {
      "text/plain": [
       "array([49,  1])"
      ]
     },
     "execution_count": 26,
     "metadata": {},
     "output_type": "execute_result"
    }
   ],
   "source": [
    "# absolute value fun using abs() fun\n",
    "\n",
    "import numpy as np\n",
    "\n",
    "\n",
    "a=[-49,-1]\n",
    "newarr=np.absolute(a)\n",
    "newarr\n"
   ]
  },
  {
   "attachments": {},
   "cell_type": "markdown",
   "metadata": {},
   "source": [
    "Rounding Decimals\n",
    "There are primarily five ways of rounding off decimals in NumPy:\n",
    "\n",
    "###  `truncation`\n",
    "###  `fix`\n",
    "###  `rounding`\n",
    "###  `floor`\n",
    "### ` ceil`"
   ]
  },
  {
   "attachments": {},
   "cell_type": "markdown",
   "metadata": {},
   "source": [
    "Truncation\n",
    "Remove the decimals, and return the float number closest to zero. Use the` trunc()` and `fix() functions`."
   ]
  },
  {
   "cell_type": "code",
   "execution_count": 41,
   "metadata": {},
   "outputs": [
    {
     "name": "stdout",
     "output_type": "stream",
     "text": [
      "<class 'numpy.ndarray'>\n"
     ]
    },
    {
     "data": {
      "text/plain": [
       "array([-2., -4.])"
      ]
     },
     "execution_count": 41,
     "metadata": {},
     "output_type": "execute_result"
    }
   ],
   "source": [
    "import numpy as np\n",
    "\n",
    "a=[-2.5523,-4.167]\n",
    "x=np.trunc(a)\n",
    "print(type(x))\n",
    "x\n"
   ]
  },
  {
   "cell_type": "code",
   "execution_count": 33,
   "metadata": {},
   "outputs": [
    {
     "data": {
      "text/plain": [
       "array([-2., -4.])"
      ]
     },
     "execution_count": 33,
     "metadata": {},
     "output_type": "execute_result"
    }
   ],
   "source": [
    "import numpy as np\n",
    "\n",
    "\n",
    "x=np.fix([-2.5523,-4.167])\n",
    "print(type(x))\n",
    "x"
   ]
  },
  {
   "cell_type": "code",
   "execution_count": 37,
   "metadata": {},
   "outputs": [
    {
     "data": {
      "text/plain": [
       "array([-2.55, -4.2 ])"
      ]
     },
     "execution_count": 37,
     "metadata": {},
     "output_type": "execute_result"
    }
   ],
   "source": [
    "# rounding it just rounding \n",
    "import numpy as np\n",
    "\n",
    "\n",
    "x=np.round([-2.5523,-4.198],2)\n",
    "print(type(x))\n",
    "x"
   ]
  },
  {
   "attachments": {},
   "cell_type": "markdown",
   "metadata": {},
   "source": [
    "Floor\n",
    "\n",
    "The floor() function rounds off decimal to nearest lower integer.\n",
    "\n",
    "E.g. floor of 3.166 is 3."
   ]
  },
  {
   "cell_type": "code",
   "execution_count": 39,
   "metadata": {},
   "outputs": [
    {
     "data": {
      "text/plain": [
       "array([-3., -5.])"
      ]
     },
     "execution_count": 39,
     "metadata": {},
     "output_type": "execute_result"
    }
   ],
   "source": [
    "import numpy as np\n",
    "\n",
    "\n",
    "x=np.floor([-2.5523,-4.167])\n",
    "print(type(x))\n",
    "x"
   ]
  },
  {
   "attachments": {},
   "cell_type": "markdown",
   "metadata": {},
   "source": [
    "Ceil\n",
    "\n",
    "\n",
    "The ceil() function rounds off decimal to nearest upper integer.\n",
    "\n",
    "E.g. ceil of 3.166 is 4."
   ]
  },
  {
   "cell_type": "code",
   "execution_count": 42,
   "metadata": {},
   "outputs": [
    {
     "name": "stdout",
     "output_type": "stream",
     "text": [
      "<class 'numpy.ndarray'>\n",
      "[-3.  4.]\n"
     ]
    }
   ],
   "source": [
    "import numpy as np\n",
    "\n",
    "arr = np.ceil([-3.1666, 3.6667])\n",
    "print(type(x))\n",
    "print(arr)"
   ]
  },
  {
   "attachments": {},
   "cell_type": "markdown",
   "metadata": {},
   "source": [
    "## `Logs`\n",
    "NumPy provides functions to perform log at the base 2, e and 10.\n",
    "\n",
    "We will also explore how we can take log for any base by creating a custom ufunc.\n",
    "\n",
    "All of the log functions will place -inf or inf in the elements if the log can not be computed."
   ]
  },
  {
   "attachments": {},
   "cell_type": "markdown",
   "metadata": {},
   "source": [
    "Log at Base 2\n",
    "\n",
    "\n",
    "Use the log2() function to perform log at the base 2."
   ]
  },
  {
   "cell_type": "code",
   "execution_count": 43,
   "metadata": {},
   "outputs": [
    {
     "data": {
      "text/plain": [
       "array([1, 3, 5, 7, 9])"
      ]
     },
     "execution_count": 43,
     "metadata": {},
     "output_type": "execute_result"
    }
   ],
   "source": [
    "import numpy as np\n",
    "\n",
    "s=np.arange(1,10,2)\n",
    "s\n",
    "# arange it just put the number start and end and step\n",
    "#  i1 is included and 10 is excluded"
   ]
  },
  {
   "cell_type": "code",
   "execution_count": 45,
   "metadata": {},
   "outputs": [
    {
     "data": {
      "text/plain": [
       "array([0.        , 1.5849625 , 2.32192809, 2.80735492, 3.169925  ])"
      ]
     },
     "execution_count": 45,
     "metadata": {},
     "output_type": "execute_result"
    }
   ],
   "source": [
    "d=np.log2(s)\n",
    "d"
   ]
  },
  {
   "cell_type": "code",
   "execution_count": 47,
   "metadata": {},
   "outputs": [
    {
     "data": {
      "text/plain": [
       "array([0.        , 0.47712125, 0.69897   , 0.84509804, 0.95424251])"
      ]
     },
     "execution_count": 47,
     "metadata": {},
     "output_type": "execute_result"
    }
   ],
   "source": [
    "# log the base of 10\n",
    "# Log at Base 10\n",
    "# Use the log10() function to perform log at the base 10.\n",
    "\n",
    "\n",
    "d=np.log10(s)\n",
    "d"
   ]
  },
  {
   "cell_type": "code",
   "execution_count": 49,
   "metadata": {},
   "outputs": [
    {
     "data": {
      "text/plain": [
       "array([0.        , 1.09861229, 1.60943791, 1.94591015, 2.19722458])"
      ]
     },
     "execution_count": 49,
     "metadata": {},
     "output_type": "execute_result"
    }
   ],
   "source": [
    "# Natural Log, or Log at Base e\n",
    "# Use the log() function to perform log at the base e.\n",
    "\n",
    "d=np.log(s)\n",
    "d"
   ]
  },
  {
   "cell_type": "code",
   "execution_count": 53,
   "metadata": {},
   "outputs": [
    {
     "data": {
      "text/plain": [
       "2.8613531161467867"
      ]
     },
     "execution_count": 53,
     "metadata": {},
     "output_type": "execute_result"
    }
   ],
   "source": [
    "# Log at Any Base\n",
    "# NumPy does not provide any function to take log at any base, so we can use the frompyfunc() function along with inbuilt function math.log() with two input parameters and one output parameter:\n",
    "\n",
    "\n",
    "import numpy as np\n",
    "from math import log\n",
    "\n",
    "d=np.frompyfunc(log,2,1)\n",
    "d(100,5)"
   ]
  },
  {
   "attachments": {},
   "cell_type": "markdown",
   "metadata": {},
   "source": [
    "##  Summations"
   ]
  },
  {
   "cell_type": "code",
   "execution_count": 55,
   "metadata": {},
   "outputs": [
    {
     "data": {
      "text/plain": [
       "array([2, 4, 6, 8])"
      ]
     },
     "execution_count": 55,
     "metadata": {},
     "output_type": "execute_result"
    }
   ],
   "source": [
    "# normal add() in numpy \n",
    "\n",
    "import numpy as np \n",
    "\n",
    "a=(1,2,3,4)  # in the input must be in tuple or typecast to list\n",
    "b=(1,2,3,4)\n",
    "z=np.add(a,b)\n",
    "z"
   ]
  },
  {
   "cell_type": "code",
   "execution_count": 63,
   "metadata": {},
   "outputs": [
    {
     "name": "stdout",
     "output_type": "stream",
     "text": [
      "<class 'numpy.int32'>\n"
     ]
    }
   ],
   "source": [
    "# summations fun in numpy\n",
    "\n",
    "z=np.sum([a,b])\n",
    "print(type(z))"
   ]
  },
  {
   "cell_type": "code",
   "execution_count": 67,
   "metadata": {},
   "outputs": [
    {
     "data": {
      "text/plain": [
       "array([8, 7])"
      ]
     },
     "execution_count": 67,
     "metadata": {},
     "output_type": "execute_result"
    }
   ],
   "source": [
    "# we can sum in the axis also for that you need to decalre the axis, axis is nthing but it is dimension\n",
    "\n",
    "a=([1,3,4])\n",
    "b=([1,2,4])\n",
    "\n",
    "a=np.sum([a,b],axis=1)\n",
    "a"
   ]
  },
  {
   "attachments": {},
   "cell_type": "markdown",
   "metadata": {},
   "source": [
    "Cummulative Sum\n",
    "\n",
    "Cummulative sum means partially adding the elements in array.\n",
    "\n",
    "E.g. The partial sum of [1, 2, 3, 4] would be [1, 1+2, 1+2+3, 1+2+3+4] = [1, 3, 6, 10].\n",
    "\n",
    "Perfom partial sum with the cumsum() function."
   ]
  },
  {
   "cell_type": "code",
   "execution_count": 70,
   "metadata": {},
   "outputs": [
    {
     "data": {
      "text/plain": [
       "array([ 1,  3,  6, 10, 15, 21, 28, 36, 45, 55, 66, 78])"
      ]
     },
     "execution_count": 70,
     "metadata": {},
     "output_type": "execute_result"
    }
   ],
   "source": [
    "a=[(1,2,3,4,5,6,7,8,9,10,11,12)]\n",
    "b=[(1,2,3,4,5,6,7,8,9,10,11,12)]\n",
    "# using cummulative sum\n",
    "\n",
    "z=np.cumsum(a)  # it store a single argument \n",
    "z\n",
    "\n",
    "# 1,1+2,3+3,6+4,10+5  like this happings inside the cumsum()"
   ]
  },
  {
   "attachments": {},
   "cell_type": "markdown",
   "metadata": {},
   "source": [
    "## `Products`\n",
    "To find the product of the elements in an array, use the prod() function.  \n",
    "\n",
    "its similar to the `summation summation function() is done with addition and product functions() is deal with multiplication`"
   ]
  },
  {
   "cell_type": "code",
   "execution_count": 73,
   "metadata": {},
   "outputs": [
    {
     "data": {
      "text/plain": [
       "4"
      ]
     },
     "execution_count": 73,
     "metadata": {},
     "output_type": "execute_result"
    }
   ],
   "source": [
    "import numpy as np\n",
    "\n",
    "a=([1,2])\n",
    "\n",
    "b=([1,2])\n",
    "\n",
    "z=np.prod([a,b])\n",
    "z"
   ]
  },
  {
   "cell_type": "code",
   "execution_count": 75,
   "metadata": {},
   "outputs": [
    {
     "data": {
      "text/plain": [
       "array([2, 2])"
      ]
     },
     "execution_count": 75,
     "metadata": {},
     "output_type": "execute_result"
    }
   ],
   "source": [
    "# product through axis \n",
    "\n",
    "\n",
    "z=np.prod([a,b],axis=1)\n",
    "z"
   ]
  },
  {
   "attachments": {},
   "cell_type": "markdown",
   "metadata": {},
   "source": [
    "`Cummulative Product`\n",
    "\n",
    "Cummulative product means taking the product partially.\n",
    "\n",
    "E.g. The partial product of [1, 2, 3, 4] is [1, 1*2, 1*2*3, 1*2*3*4] = [1, 2, 6, 24]\n",
    "\n",
    "Perfom partial sum with the cumprod() function."
   ]
  },
  {
   "cell_type": "code",
   "execution_count": 77,
   "metadata": {},
   "outputs": [
    {
     "data": {
      "text/plain": [
       "array([1, 2])"
      ]
     },
     "execution_count": 77,
     "metadata": {},
     "output_type": "execute_result"
    }
   ],
   "source": [
    "z=np.cumprod([a])\n",
    "z"
   ]
  },
  {
   "attachments": {},
   "cell_type": "markdown",
   "metadata": {},
   "source": [
    "## `Differences`\n",
    "\n",
    "\n",
    "A discrete difference means subtracting two successive elements.\n",
    "\n",
    "E.g. for [1, 2, 3, 4], the discrete difference would be [2-1, 3-2, 4-3] = [1, 1, 1]\n",
    "\n",
    "To find the discrete difference, use the diff() function."
   ]
  },
  {
   "cell_type": "code",
   "execution_count": 79,
   "metadata": {},
   "outputs": [
    {
     "data": {
      "text/plain": [
       "array([1, 1])"
      ]
     },
     "execution_count": 79,
     "metadata": {},
     "output_type": "execute_result"
    }
   ],
   "source": [
    "import numpy as np\n",
    "\n",
    "a=[1,2,3]\n",
    "z=np.diff(a)\n",
    "z"
   ]
  },
  {
   "attachments": {},
   "cell_type": "markdown",
   "metadata": {},
   "source": [
    "## Differences\n",
    "\n",
    "A discrete difference means subtracting two successive elements.\n",
    "\n",
    "E.g. for [1, 2, 3, 4], the discrete difference would be [2-1, 3-2, 4-3] = [1, 1, 1]\n",
    "\n",
    "To find the discrete difference, use the diff() function."
   ]
  },
  {
   "cell_type": "code",
   "execution_count": 82,
   "metadata": {},
   "outputs": [
    {
     "name": "stdout",
     "output_type": "stream",
     "text": [
      "[  5 -30]\n"
     ]
    }
   ],
   "source": [
    "import numpy as np\n",
    "\n",
    "arr = np.array([10, 15, 25, 5])\n",
    "\n",
    "newarr = np.diff(arr, n=2)\n",
    "\n",
    "\n",
    "print(newarr)"
   ]
  }
 ],
 "metadata": {
  "kernelspec": {
   "display_name": "env",
   "language": "python",
   "name": "python3"
  },
  "language_info": {
   "codemirror_mode": {
    "name": "ipython",
    "version": 3
   },
   "file_extension": ".py",
   "mimetype": "text/x-python",
   "name": "python",
   "nbconvert_exporter": "python",
   "pygments_lexer": "ipython3",
   "version": "3.10.6"
  },
  "orig_nbformat": 4
 },
 "nbformat": 4,
 "nbformat_minor": 2
}
